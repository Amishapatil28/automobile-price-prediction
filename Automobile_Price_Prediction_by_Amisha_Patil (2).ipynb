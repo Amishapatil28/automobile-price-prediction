{
 "cells": [
  {
   "cell_type": "markdown",
   "id": "f7fcce2e",
   "metadata": {},
   "source": [
    "# 🚗 Automobile Price Prediction using Machine Learning\n",
    "\n",
    "### 👩‍💻 Project by: Amisha Patil\n",
    "\n",
    "This project explores and builds machine learning models to predict car prices using the UCI Automobile dataset. Techniques include preprocessing, regression modeling, feature selection, and PCA."
   ]
  },
  {
   "cell_type": "code",
   "execution_count": null,
   "id": "199e0a6b",
   "metadata": {},
   "outputs": [],
   "source": [
    "import pandas as pd\n",
    "import numpy as np\n",
    "import matplotlib.pyplot as plt\n",
    "import seaborn as sns\n",
    "from sklearn.preprocessing import LabelEncoder, StandardScaler\n",
    "from sklearn.model_selection import train_test_split\n",
    "from sklearn.linear_model import LinearRegression\n",
    "from sklearn.ensemble import RandomForestRegressor\n",
    "from sklearn.metrics import mean_squared_error, r2_score\n",
    "from sklearn.feature_selection import RFE\n",
    "from sklearn.decomposition import PCA"
   ]
  },
  {
   "cell_type": "code",
   "execution_count": null,
   "id": "3f753ff2",
   "metadata": {},
   "outputs": [],
   "source": [
    "# Load the dataset\n",
    "data = pd.read_csv('imports-85.data', header=None)\n",
    "data.columns = [\n",
    "    'symboling', 'normalized-losses', 'make', 'fuel-type', 'aspiration',\n",
    "    'num-of-doors', 'body-style', 'drive-wheels', 'engine-location', 'wheel-base',\n",
    "    'length', 'width', 'height', 'curb-weight', 'engine-type', 'num-of-cylinders',\n",
    "    'engine-size', 'fuel-system', 'bore', 'stroke', 'compression-ratio',\n",
    "    'horsepower', 'peak-rpm', 'city-mpg', 'highway-mpg', 'price'\n",
    "]"
   ]
  },
  {
   "cell_type": "code",
   "execution_count": null,
   "id": "561a9df1",
   "metadata": {},
   "outputs": [],
   "source": [
    "# Replace '?' with NaN and convert necessary columns\n",
    "data.replace('?', np.nan, inplace=True)\n",
    "num_cols = ['normalized-losses', 'bore', 'stroke', 'horsepower', 'peak-rpm', 'price']\n",
    "for col in num_cols:\n",
    "    data[col] = pd.to_numeric(data[col])\n",
    "data.fillna(data.median(numeric_only=True), inplace=True)"
   ]
  },
  {
   "cell_type": "code",
   "execution_count": null,
   "id": "fe846da8",
   "metadata": {},
   "outputs": [],
   "source": [
    "# Encode categorical variables\n",
    "categorical_columns = [\n",
    "    'make', 'fuel-type', 'aspiration', 'num-of-doors', 'body-style',\n",
    "    'drive-wheels', 'engine-location', 'engine-type', 'num-of-cylinders', 'fuel-system'\n",
    "]\n",
    "le = LabelEncoder()\n",
    "for col in categorical_columns:\n",
    "    data[col] = le.fit_transform(data[col])"
   ]
  },
  {
   "cell_type": "code",
   "execution_count": null,
   "id": "05ad3ed9",
   "metadata": {},
   "outputs": [],
   "source": [
    "# Normalize numeric features\n",
    "scaler = StandardScaler()\n",
    "numeric_columns = [\n",
    "    'symboling', 'normalized-losses', 'wheel-base', 'length', 'width', 'height',\n",
    "    'curb-weight', 'engine-size', 'bore', 'stroke', 'compression-ratio',\n",
    "    'horsepower', 'peak-rpm', 'city-mpg', 'highway-mpg', 'price'\n",
    "]\n",
    "data[numeric_columns] = scaler.fit_transform(data[numeric_columns])"
   ]
  },
  {
   "cell_type": "code",
   "execution_count": null,
   "id": "da96a593",
   "metadata": {},
   "outputs": [],
   "source": [
    "# Correlation heatmap\n",
    "plt.figure(figsize=(12, 10))\n",
    "sns.heatmap(data.corr(), cmap='coolwarm')\n",
    "plt.title('Feature Correlation Heatmap')\n",
    "plt.show()"
   ]
  },
  {
   "cell_type": "code",
   "execution_count": null,
   "id": "dff82111",
   "metadata": {},
   "outputs": [],
   "source": [
    "# Pairplot of selected features\n",
    "selected_features = ['price', 'engine-size', 'curb-weight', 'horsepower', 'city-mpg']\n",
    "sns.pairplot(data[selected_features])\n",
    "plt.show()"
   ]
  },
  {
   "cell_type": "code",
   "execution_count": null,
   "id": "3474f2fa",
   "metadata": {},
   "outputs": [],
   "source": [
    "# Prepare features and target\n",
    "X = data.drop('price', axis=1)\n",
    "y = data['price']\n",
    "X_train, X_test, y_train, y_test = train_test_split(X, y, test_size=0.2, random_state=42)"
   ]
  },
  {
   "cell_type": "code",
   "execution_count": null,
   "id": "9b6f394b",
   "metadata": {},
   "outputs": [],
   "source": [
    "# Linear Regression Model\n",
    "lr = LinearRegression()\n",
    "lr.fit(X_train, y_train)\n",
    "y_pred_lr = lr.predict(X_test)\n",
    "print(f'Linear Regression MSE: {mean_squared_error(y_test, y_pred_lr):.4f}')\n",
    "print(f'Linear Regression R^2: {r2_score(y_test, y_pred_lr):.4f}')"
   ]
  },
  {
   "cell_type": "code",
   "execution_count": null,
   "id": "f53a7e0f",
   "metadata": {},
   "outputs": [],
   "source": [
    "# Random Forest Model\n",
    "rf = RandomForestRegressor(n_estimators=100, random_state=42)\n",
    "rf.fit(X_train, y_train)\n",
    "y_pred_rf = rf.predict(X_test)\n",
    "print(f'Random Forest MSE: {mean_squared_error(y_test, y_pred_rf):.4f}')\n",
    "print(f'Random Forest R^2: {r2_score(y_test, y_pred_rf):.4f}')"
   ]
  },
  {
   "cell_type": "code",
   "execution_count": null,
   "id": "1173e234",
   "metadata": {},
   "outputs": [],
   "source": [
    "# Feature selection with RFE\n",
    "rfe = RFE(LinearRegression(), n_features_to_select=5)\n",
    "rfe.fit(X, y)\n",
    "print('Selected Features:', X.columns[rfe.support_].tolist())"
   ]
  },
  {
   "cell_type": "code",
   "execution_count": null,
   "id": "2cab506d",
   "metadata": {},
   "outputs": [],
   "source": [
    "# PCA Visualization\n",
    "pca = PCA(n_components=2)\n",
    "X_pca = pca.fit_transform(X)\n",
    "print('Explained Variance Ratio:', pca.explained_variance_ratio_)\n",
    "\n",
    "plt.figure(figsize=(8, 6))\n",
    "plt.scatter(X_pca[:, 0], X_pca[:, 1], c=y, cmap='viridis')\n",
    "plt.xlabel('Principal Component 1')\n",
    "plt.ylabel('Principal Component 2')\n",
    "plt.colorbar(label='Price')\n",
    "plt.title('PCA of Car Prices')\n",
    "plt.show()"
   ]
  }
 ],
 "metadata": {},
 "nbformat": 4,
 "nbformat_minor": 5
}